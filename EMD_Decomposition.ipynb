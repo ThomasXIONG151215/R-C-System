{
 "cells": [
  {
   "cell_type": "code",
   "execution_count": 52,
   "metadata": {},
   "outputs": [],
   "source": [
    "import numpy as np\n",
    "from PyEMD import EMD,EEMD,Visualisation\n",
    "import matplotlib.pyplot as plt\n",
    "import Data_Extraction as d_e\n",
    "\n",
    "emd=EMD()\n",
    "eemd=EEMD()\n",
    "\n",
    "class EMD_model():\n",
    "\n",
    "    def __init__(self):\n",
    "        self.data=np.zeros(10240,)\n",
    "        self.signal=np.zeros(10240,)\n",
    "        self.emd_out_signal=np.zeros(10240,)\n",
    "        self.eemd_out_signal=np.zeros(10240,)\n",
    "        self.t=np.zeros(10240,)\n",
    "        \n",
    "    def registration(self,datalist1,datalist2): #first absisse then coordinate\n",
    "        self.t=datalist1\n",
    "        self.data=datalist2 #这里 data变成了list，需要一会儿改回来\n",
    "        \n",
    "    def decomposition(self):\n",
    "        self.data=np.array(self.data)    #这里把变成了list的data改回成np.array\n",
    "        #IMFs_emd=emd(self.data)\n",
    "        #IMFs_eemd=eemd(self.data)    \n",
    "        \n",
    "        \n",
    "    def plot_input_signal(self):\n",
    "        plt.figure(1)\n",
    "        plt.plot(self.t,self.data,'g')\n",
    "        plt.title(\"Data Input\")\n",
    "        plt.xlabel(\"Unity Duration\")\n",
    "        plt.ylabel(\"Energy Cost/kW\")\n",
    "        plt.show()\n",
    "        \n",
    "    def EMD_signal(self):\n",
    "        IMFs_emd=emd(self.data)\n",
    "        IMFs_eemd=eemd(self.data) \n",
    "        plt.figure(2)\n",
    "        for i in range(np.shape(IMFs_emd)[0]):\n",
    "            plt.subplot(1+np.shape(IMFs_emd)[0],1,1+i)\n",
    "            plt.plot(self.t,IMFs_emd[i,:],'b')\n",
    "            plt.title(\"emd-IMF\"+str(i))\n",
    "        plt.show()\n",
    "    def EEMD_signal(self):\n",
    "        IMFs_emd=emd(self.data)\n",
    "        IMFs_eemd=eemd(self.data) \n",
    "        plt.figure(3)\n",
    "        for i in range(np.shape(IMFs_eemd)[0]):\n",
    "            plt.subplot(1+npshape(IMFs_eemd)[0],1,1+i)\n",
    "            plt.plot(self.t,IMFs_eemd[i,:],'y')\n",
    "            plt.title(\"eemd-IMF\"+str(i))\n",
    "        plt.show()\n",
    "        \n",
    "    def EMD_denoising(self):\n",
    "        plt.figure(4)\n",
    "        denoise=2 #去除前两个高频IMF\n",
    "        for i in range(np.shape(IMFs_emd)[0]-denoise):\n",
    "            self.emd_out_signal+=IMFs_emd[denoise+i,:]\n",
    "        plt.plt(self.t,self.emd_out_signal,'b')\n",
    "        plt.title('EMD Denoising by filtrating '+str(denoise)+' IMFs')\n",
    "        plt.xlabel('Unity Duration')\n",
    "        plt.ylabel('Energy Cost/kW')\n",
    "        plt.show()\n",
    "        \n",
    "    def EEMD_denoising(self):\n",
    "        plt.figure(4)\n",
    "        denoise=2 #去除前两个高频IMF\n",
    "        for i in range(np.shape(IMFs_eemd)[0]-denoise):\n",
    "            self.emd_out_signal+=IMFs_eemd[denoise+i,:]\n",
    "        plt.plt(self.t,self.eemd_out_signal,'b')\n",
    "        plt.title('EEMD Denoising by filtrating '+str(denoise)+' IMFs')\n",
    "        plt.xlabel('Unity Duration')\n",
    "        plt.ylabel('Energy Cost/kW')\n",
    "        plt.show()\n",
    "        \n",
    "    "
   ]
  },
  {
   "cell_type": "code",
   "execution_count": 53,
   "metadata": {},
   "outputs": [
    {
     "name": "stdout",
     "output_type": "stream",
     "text": [
      "92309\n"
     ]
    }
   ],
   "source": [
    "database=d_e.Database\n",
    "emd_model=EMD_model\n",
    "database.__init__(database)\n",
    "emd_model.__init__(emd)\n",
    "database.extraction_one(database)\n",
    "print(len(database.system_total_cosumption))\n",
    "timebase=np.zeros(len(database.system_total_cosumption))\n",
    "for i in range(len(timebase)):\n",
    "    timebase[i]=timebase[i-1]+1\n"
   ]
  },
  {
   "cell_type": "code",
   "execution_count": 54,
   "metadata": {},
   "outputs": [],
   "source": [
    "emd_model.registration(emd_model,timebase,database.system_total_cosumption)"
   ]
  },
  {
   "cell_type": "code",
   "execution_count": 55,
   "metadata": {
    "scrolled": true
   },
   "outputs": [
    {
     "data": {
      "image/png": "[encoded data removed]",
      "text/plain": [
       "<Figure size 432x288 with 1 Axes>"
      ]
     },
     "metadata": {
      "needs_background": "light"
     },
     "output_type": "display_data"
    }
   ],
   "source": [
    "emd_model.plot_input_signal(emd_model)"
   ]
  },
  {
   "cell_type": "code",
   "execution_count": 60,
   "metadata": {},
   "outputs": [],
   "source": [
    "emd_model.decomposition(emd_model)"
   ]
  },
  {
   "cell_type": "code",
   "execution_count": 62,
   "metadata": {},
   "outputs": [
    {
     "ename": "NameError",
     "evalue": "name 'IMFs_emd' is not defined",
     "output_type": "error",
     "traceback": [
      "\u001b[0;31m---------------------------------------------------------------------------\u001b[0m",
      "\u001b[0;31mNameError\u001b[0m                                 Traceback (most recent call last)",
      "\u001b[0;32m<ipython-input-62-4f932c833018>\u001b[0m in \u001b[0;36m<module>\u001b[0;34m\u001b[0m\n\u001b[1;32m      1\u001b[0m \u001b[0;31m#print(emd_model.IMFs_emd)\u001b[0m\u001b[0;34m\u001b[0m\u001b[0;34m\u001b[0m\u001b[0;34m\u001b[0m\u001b[0m\n\u001b[0;32m----> 2\u001b[0;31m \u001b[0memd_model\u001b[0m\u001b[0;34m.\u001b[0m\u001b[0mEMD_signal\u001b[0m\u001b[0;34m(\u001b[0m\u001b[0memd_model\u001b[0m\u001b[0;34m)\u001b[0m\u001b[0;34m\u001b[0m\u001b[0;34m\u001b[0m\u001b[0m\n\u001b[0m",
      "\u001b[0;32m<ipython-input-52-d33d4716ecb6>\u001b[0m in \u001b[0;36mEMD_signal\u001b[0;34m(self)\u001b[0m\n\u001b[1;32m     36\u001b[0m     \u001b[0;32mdef\u001b[0m \u001b[0mEMD_signal\u001b[0m\u001b[0;34m(\u001b[0m\u001b[0mself\u001b[0m\u001b[0;34m)\u001b[0m\u001b[0;34m:\u001b[0m\u001b[0;34m\u001b[0m\u001b[0;34m\u001b[0m\u001b[0m\n\u001b[1;32m     37\u001b[0m         \u001b[0mplt\u001b[0m\u001b[0;34m.\u001b[0m\u001b[0mfigure\u001b[0m\u001b[0;34m(\u001b[0m\u001b[0;36m2\u001b[0m\u001b[0;34m)\u001b[0m\u001b[0;34m\u001b[0m\u001b[0;34m\u001b[0m\u001b[0m\n\u001b[0;32m---> 38\u001b[0;31m         \u001b[0;32mfor\u001b[0m \u001b[0mi\u001b[0m \u001b[0;32min\u001b[0m \u001b[0mrange\u001b[0m\u001b[0;34m(\u001b[0m\u001b[0mnp\u001b[0m\u001b[0;34m.\u001b[0m\u001b[0mshape\u001b[0m\u001b[0;34m(\u001b[0m\u001b[0mIMFs_emd\u001b[0m\u001b[0;34m)\u001b[0m\u001b[0;34m[\u001b[0m\u001b[0;36m0\u001b[0m\u001b[0;34m]\u001b[0m\u001b[0;34m)\u001b[0m\u001b[0;34m:\u001b[0m\u001b[0;34m\u001b[0m\u001b[0;34m\u001b[0m\u001b[0m\n\u001b[0m\u001b[1;32m     39\u001b[0m             \u001b[0mplt\u001b[0m\u001b[0;34m.\u001b[0m\u001b[0msubplot\u001b[0m\u001b[0;34m(\u001b[0m\u001b[0;36m1\u001b[0m\u001b[0;34m+\u001b[0m\u001b[0mnp\u001b[0m\u001b[0;34m.\u001b[0m\u001b[0mshape\u001b[0m\u001b[0;34m(\u001b[0m\u001b[0mIMFs_emd\u001b[0m\u001b[0;34m)\u001b[0m\u001b[0;34m[\u001b[0m\u001b[0;36m0\u001b[0m\u001b[0;34m]\u001b[0m\u001b[0;34m,\u001b[0m\u001b[0;36m1\u001b[0m\u001b[0;34m,\u001b[0m\u001b[0;36m1\u001b[0m\u001b[0;34m+\u001b[0m\u001b[0mi\u001b[0m\u001b[0;34m)\u001b[0m\u001b[0;34m\u001b[0m\u001b[0;34m\u001b[0m\u001b[0m\n\u001b[1;32m     40\u001b[0m             \u001b[0mplt\u001b[0m\u001b[0;34m.\u001b[0m\u001b[0mplot\u001b[0m\u001b[0;34m(\u001b[0m\u001b[0mself\u001b[0m\u001b[0;34m.\u001b[0m\u001b[0mt\u001b[0m\u001b[0;34m,\u001b[0m\u001b[0mIMFs_emd\u001b[0m\u001b[0;34m[\u001b[0m\u001b[0mi\u001b[0m\u001b[0;34m,\u001b[0m\u001b[0;34m:\u001b[0m\u001b[0;34m]\u001b[0m\u001b[0;34m,\u001b[0m\u001b[0;34m'b'\u001b[0m\u001b[0;34m)\u001b[0m\u001b[0;34m\u001b[0m\u001b[0;34m\u001b[0m\u001b[0m\n",
      "\u001b[0;31mNameError\u001b[0m: name 'IMFs_emd' is not defined"
     ]
    },
    {
     "data": {
      "text/plain": [
       "<Figure size 432x288 with 0 Axes>"
      ]
     },
     "metadata": {},
     "output_type": "display_data"
    }
   ],
   "source": [
    "#print(emd_model.IMFs_emd)\n",
    "\n",
    "emd_model.EMD_signal(emd_model)\n",
    "\n",
    "\n",
    "\n",
    "\n"
   ]
  },
  {
   "cell_type": "code",
   "execution_count": null,
   "metadata": {},
   "outputs": [],
   "source": [
    "emd.EMD_denoising(emd)"
   ]
  }
 ],
 "metadata": {
  "kernelspec": {
   "display_name": "Python 3",
   "language": "python",
   "name": "python3"
  },
  "language_info": {
   "codemirror_mode": {
    "name": "ipython",
    "version": 3
   },
   "file_extension": ".py",
   "mimetype": "text/x-python",
   "name": "python",
   "nbconvert_exporter": "python",
   "pygments_lexer": "ipython3",
   "version": "3.8.3"
  }
 },
 "nbformat": 4,
 "nbformat_minor": 4
}
